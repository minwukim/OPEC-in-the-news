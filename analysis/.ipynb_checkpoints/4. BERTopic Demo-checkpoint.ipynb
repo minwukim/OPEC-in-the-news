{
 "cells": [
  {
   "cell_type": "markdown",
   "id": "1a37be70-4f62-4dbf-9da5-61e09952f32f",
   "metadata": {},
   "source": [
    "# BERTopic modeling for NYT OPEC articles"
   ]
  },
  {
   "cell_type": "markdown",
   "id": "edd47b52-44e5-43f3-a069-bacdde0ccc17",
   "metadata": {},
   "source": [
    "### 1. Fit the BERTopic model with the docs"
   ]
  },
  {
   "cell_type": "code",
   "execution_count": 115,
   "id": "e61a3dd8-6919-453f-8182-1e60ab4a16ef",
   "metadata": {},
   "outputs": [],
   "source": [
    "import pandas as pd\n",
    "import numpy as np\n",
    "from bertopic import BERTopic\n",
    "import matplotlib.pyplot as plt\n",
    "from sentence_transformers import SentenceTransformer\n",
    "from sklearn.metrics.pairwise import cosine_similarity\n",
    "from BERTopicTools.CosineSimilarityTools import CosineSimilarityTools\n",
    "import plotly.express as px\n",
    "from plotly.offline import init_notebook_mode, iplot\n",
    "import plotly.graph_objs as go"
   ]
  },
  {
   "cell_type": "code",
   "execution_count": 2,
   "id": "c739a8dd-f7a6-4107-bb73-14d391ad5045",
   "metadata": {},
   "outputs": [],
   "source": [
    "df = pd.read_csv(\"nyt_articles.csv\")"
   ]
  },
  {
   "cell_type": "code",
   "execution_count": 3,
   "id": "ddcf07cd-e139-4809-a060-b1a66f94929a",
   "metadata": {},
   "outputs": [],
   "source": [
    "df['doc'] = df['abstract'].fillna('') + df['snippet'].fillna('') + df['lead_paragraph'].fillna('')"
   ]
  },
  {
   "cell_type": "code",
   "execution_count": 4,
   "id": "47c4177f-bc4a-4d75-b598-016f58793a65",
   "metadata": {},
   "outputs": [],
   "source": [
    "docs = df['doc'].tolist()"
   ]
  },
  {
   "cell_type": "code",
   "execution_count": 5,
   "id": "6704904a-1da7-43b1-942f-724354f6bcc4",
   "metadata": {},
   "outputs": [],
   "source": [
    "topic_model = BERTopic(language=\"english\",calculate_probabilities=True,verbose=True)"
   ]
  },
  {
   "cell_type": "code",
   "execution_count": 6,
   "id": "18f58c6a-0461-4bb3-94c5-5bb534039e96",
   "metadata": {},
   "outputs": [
    {
     "data": {
      "application/vnd.jupyter.widget-view+json": {
       "model_id": "a3b7468da13f43e08e38ce20a81b9720",
       "version_major": 2,
       "version_minor": 0
      },
      "text/plain": [
       "Batches:   0%|          | 0/312 [00:00<?, ?it/s]"
      ]
     },
     "metadata": {},
     "output_type": "display_data"
    },
    {
     "name": "stderr",
     "output_type": "stream",
     "text": [
      "2023-12-05 13:40:41,279 - BERTopic - Transformed documents to Embeddings\n",
      "2023-12-05 13:40:52,503 - BERTopic - Reduced dimensionality\n",
      "2023-12-05 13:40:57,662 - BERTopic - Clustered reduced embeddings\n"
     ]
    }
   ],
   "source": [
    "topics, probs = topic_model.fit_transform(docs)"
   ]
  },
  {
   "cell_type": "markdown",
   "id": "c1a8bf5a-19dc-49bb-bd03-9a57ec3d12c6",
   "metadata": {},
   "source": [
    "### 2. Map the topics to the original dataframe"
   ]
  },
  {
   "cell_type": "code",
   "execution_count": 7,
   "id": "aa4a7bde-2088-4d28-97ff-a4427a21b290",
   "metadata": {},
   "outputs": [],
   "source": [
    "# Get topic information\n",
    "topic_info = topic_model.get_topic_info()\n",
    "\n",
    "# Create a dictionary for Topic Name and Representation mapping\n",
    "topic_name_mapping = dict(zip(topic_info['Topic'], topic_info['Name']))\n",
    "topic_representation_mapping = dict(zip(topic_info['Topic'], topic_info['Representation']))\n",
    "\n",
    "# Add the topic numbers to your original DataFrame\n",
    "df['Topic'] = topics\n",
    "\n",
    "# Map the topic names and representations\n",
    "df['Topic Name'] = df['Topic'].map(topic_name_mapping)\n",
    "df['Topic Representation'] = df['Topic'].map(topic_representation_mapping)\n",
    "\n",
    "# Convert 'pub_date' to datetime\n",
    "df['pub_date'] = pd.to_datetime(df['pub_date'])\n",
    "\n",
    "# Extract the year\n",
    "df['year'] = df['pub_date'].dt.year\n",
    "\n",
    "# Extract the year and month (in datetime format)\n",
    "df['year_month'] = df['pub_date'].dt.to_period('M')"
   ]
  },
  {
   "cell_type": "code",
   "execution_count": 43,
   "id": "53720ca2-3d09-40b5-8cea-8a705c81a31b",
   "metadata": {},
   "outputs": [
    {
     "data": {
      "text/html": [
       "<div>\n",
       "<style scoped>\n",
       "    .dataframe tbody tr th:only-of-type {\n",
       "        vertical-align: middle;\n",
       "    }\n",
       "\n",
       "    .dataframe tbody tr th {\n",
       "        vertical-align: top;\n",
       "    }\n",
       "\n",
       "    .dataframe thead th {\n",
       "        text-align: right;\n",
       "    }\n",
       "</style>\n",
       "<table border=\"1\" class=\"dataframe\">\n",
       "  <thead>\n",
       "    <tr style=\"text-align: right;\">\n",
       "      <th></th>\n",
       "      <th>Unnamed: 0.1</th>\n",
       "      <th>Unnamed: 0</th>\n",
       "      <th>abstract</th>\n",
       "      <th>web_url</th>\n",
       "      <th>snippet</th>\n",
       "      <th>lead_paragraph</th>\n",
       "      <th>print_section</th>\n",
       "      <th>print_page</th>\n",
       "      <th>pub_date</th>\n",
       "      <th>_id</th>\n",
       "      <th>word_count</th>\n",
       "      <th>uri</th>\n",
       "      <th>doc</th>\n",
       "      <th>Topic</th>\n",
       "      <th>Topic Name</th>\n",
       "      <th>Topic Representation</th>\n",
       "      <th>year</th>\n",
       "      <th>year_month</th>\n",
       "    </tr>\n",
       "  </thead>\n",
       "  <tbody>\n",
       "    <tr>\n",
       "      <th>0</th>\n",
       "      <td>0</td>\n",
       "      <td>0</td>\n",
       "      <td>Petroleum Exporting Countries Orgn (OPEC) conf...</td>\n",
       "      <td>https://www.nytimes.com/1961/02/15/archives/wo...</td>\n",
       "      <td>Petroleum Exporting Countries Orgn (OPEC) conf...</td>\n",
       "      <td>NaN</td>\n",
       "      <td>business financial</td>\n",
       "      <td>49.0</td>\n",
       "      <td>1961-02-15 05:00:00+00:00</td>\n",
       "      <td>nyt://article/6cd91ec1-77f8-52a5-b7ee-9937a6ec...</td>\n",
       "      <td>0</td>\n",
       "      <td>nyt://article/6cd91ec1-77f8-52a5-b7ee-9937a6ec...</td>\n",
       "      <td>Petroleum Exporting Countries Orgn (OPEC) conf...</td>\n",
       "      <td>40</td>\n",
       "      <td>40_venezuela_caracas_venezuelan_hernandez</td>\n",
       "      <td>venezuela, caracas, venezuelan, hernandez, min...</td>\n",
       "      <td>1961</td>\n",
       "      <td>1961-02</td>\n",
       "    </tr>\n",
       "    <tr>\n",
       "      <th>1</th>\n",
       "      <td>1</td>\n",
       "      <td>1</td>\n",
       "      <td>Min Perez Alfonzo (Venezuela) on way to USSR t...</td>\n",
       "      <td>https://www.nytimes.com/1961/07/29/archives/be...</td>\n",
       "      <td>Min Perez Alfonzo (Venezuela) on way to USSR t...</td>\n",
       "      <td>NaN</td>\n",
       "      <td>BUSINESS FINANCIAL</td>\n",
       "      <td>23.0</td>\n",
       "      <td>1961-07-29 05:00:00+00:00</td>\n",
       "      <td>nyt://article/8abf4ee1-8531-5bbf-9bee-6588ccc0...</td>\n",
       "      <td>0</td>\n",
       "      <td>nyt://article/8abf4ee1-8531-5bbf-9bee-6588ccc0...</td>\n",
       "      <td>Min Perez Alfonzo (Venezuela) on way to USSR t...</td>\n",
       "      <td>40</td>\n",
       "      <td>40_venezuela_caracas_venezuelan_hernandez</td>\n",
       "      <td>venezuela, caracas, venezuelan, hernandez, min...</td>\n",
       "      <td>1961</td>\n",
       "      <td>1961-07</td>\n",
       "    </tr>\n",
       "    <tr>\n",
       "      <th>2</th>\n",
       "      <td>2</td>\n",
       "      <td>2</td>\n",
       "      <td>Venezuela backs Iraqi plea to postpone OPEC co...</td>\n",
       "      <td>https://www.nytimes.com/1961/08/08/archives/ca...</td>\n",
       "      <td>Venezuela backs Iraqi plea to postpone OPEC co...</td>\n",
       "      <td>NaN</td>\n",
       "      <td>BUSINESS FINANCIAL</td>\n",
       "      <td>40.0</td>\n",
       "      <td>1961-08-08 05:00:00+00:00</td>\n",
       "      <td>nyt://article/7bbaaae0-3ae6-5c52-851a-f10d8e5e...</td>\n",
       "      <td>0</td>\n",
       "      <td>nyt://article/7bbaaae0-3ae6-5c52-851a-f10d8e5e...</td>\n",
       "      <td>Venezuela backs Iraqi plea to postpone OPEC co...</td>\n",
       "      <td>40</td>\n",
       "      <td>40_venezuela_caracas_venezuelan_hernandez</td>\n",
       "      <td>venezuela, caracas, venezuelan, hernandez, min...</td>\n",
       "      <td>1961</td>\n",
       "      <td>1961-08</td>\n",
       "    </tr>\n",
       "  </tbody>\n",
       "</table>\n",
       "</div>"
      ],
      "text/plain": [
       "   Unnamed: 0.1  Unnamed: 0  \\\n",
       "0             0           0   \n",
       "1             1           1   \n",
       "2             2           2   \n",
       "\n",
       "                                            abstract  \\\n",
       "0  Petroleum Exporting Countries Orgn (OPEC) conf...   \n",
       "1  Min Perez Alfonzo (Venezuela) on way to USSR t...   \n",
       "2  Venezuela backs Iraqi plea to postpone OPEC co...   \n",
       "\n",
       "                                             web_url  \\\n",
       "0  https://www.nytimes.com/1961/02/15/archives/wo...   \n",
       "1  https://www.nytimes.com/1961/07/29/archives/be...   \n",
       "2  https://www.nytimes.com/1961/08/08/archives/ca...   \n",
       "\n",
       "                                             snippet lead_paragraph  \\\n",
       "0  Petroleum Exporting Countries Orgn (OPEC) conf...            NaN   \n",
       "1  Min Perez Alfonzo (Venezuela) on way to USSR t...            NaN   \n",
       "2  Venezuela backs Iraqi plea to postpone OPEC co...            NaN   \n",
       "\n",
       "        print_section print_page                  pub_date  \\\n",
       "0  business financial       49.0 1961-02-15 05:00:00+00:00   \n",
       "1  BUSINESS FINANCIAL       23.0 1961-07-29 05:00:00+00:00   \n",
       "2  BUSINESS FINANCIAL       40.0 1961-08-08 05:00:00+00:00   \n",
       "\n",
       "                                                 _id  word_count  \\\n",
       "0  nyt://article/6cd91ec1-77f8-52a5-b7ee-9937a6ec...           0   \n",
       "1  nyt://article/8abf4ee1-8531-5bbf-9bee-6588ccc0...           0   \n",
       "2  nyt://article/7bbaaae0-3ae6-5c52-851a-f10d8e5e...           0   \n",
       "\n",
       "                                                 uri  \\\n",
       "0  nyt://article/6cd91ec1-77f8-52a5-b7ee-9937a6ec...   \n",
       "1  nyt://article/8abf4ee1-8531-5bbf-9bee-6588ccc0...   \n",
       "2  nyt://article/7bbaaae0-3ae6-5c52-851a-f10d8e5e...   \n",
       "\n",
       "                                                 doc  Topic  \\\n",
       "0  Petroleum Exporting Countries Orgn (OPEC) conf...     40   \n",
       "1  Min Perez Alfonzo (Venezuela) on way to USSR t...     40   \n",
       "2  Venezuela backs Iraqi plea to postpone OPEC co...     40   \n",
       "\n",
       "                                  Topic Name  \\\n",
       "0  40_venezuela_caracas_venezuelan_hernandez   \n",
       "1  40_venezuela_caracas_venezuelan_hernandez   \n",
       "2  40_venezuela_caracas_venezuelan_hernandez   \n",
       "\n",
       "                                Topic Representation  year year_month  \n",
       "0  venezuela, caracas, venezuelan, hernandez, min...  1961    1961-02  \n",
       "1  venezuela, caracas, venezuelan, hernandez, min...  1961    1961-07  \n",
       "2  venezuela, caracas, venezuelan, hernandez, min...  1961    1961-08  "
      ]
     },
     "execution_count": 43,
     "metadata": {},
     "output_type": "execute_result"
    }
   ],
   "source": [
    "df.head(3)"
   ]
  },
  {
   "cell_type": "markdown",
   "id": "7d253fe2-6b58-4f25-aabc-3f9c43e3d9e2",
   "metadata": {},
   "source": [
    "### 3. Compute the entropy for each topic and plot the histogram"
   ]
  },
  {
   "cell_type": "markdown",
   "id": "b7498f69-d1a3-45df-8494-3f904dca7093",
   "metadata": {},
   "source": [
    "#### 3.1. Group by year"
   ]
  },
  {
   "cell_type": "code",
   "execution_count": 9,
   "id": "91faaf85-4e91-4722-98e0-3fbc44d5c3a2",
   "metadata": {},
   "outputs": [],
   "source": [
    "def entropy(probs):\n",
    "    return -np.sum([p * np.log2(p) for p in probs if p > 0])"
   ]
  },
  {
   "cell_type": "code",
   "execution_count": 10,
   "id": "b226739d-4143-4ff2-b7eb-65fe544c6596",
   "metadata": {},
   "outputs": [],
   "source": [
    "# Step 1: Count the occurrences of each topic in each year\n",
    "topic_year_counts = df.groupby(['Topic', 'year']).size().reset_index(name='count')\n",
    "\n",
    "# Step 2: Calculate the total counts of each topic across all years\n",
    "total_counts = topic_year_counts.groupby('Topic')['count'].sum()\n",
    "\n",
    "# Step 3: Merge total counts back to the topic-year counts DataFrame\n",
    "topic_year_counts = topic_year_counts.merge(total_counts, on='Topic', suffixes=('', '_total'))\n",
    "\n",
    "# Step 4: Calculate the probability distribution of each topic over the years\n",
    "topic_year_counts['probability'] = topic_year_counts['count'] / topic_year_counts['count_total']\n",
    "\n",
    "# Step 5: Calculate the entropy for each topic\n",
    "topic_entropy = topic_year_counts.groupby('Topic')['probability'].apply(entropy).reset_index(name='entropy')\n",
    "\n",
    "# Step 6: Create a mapping DataFrame from df\n",
    "for column in ['Topic', 'Topic Name', 'Topic Representation']:\n",
    "    if df[column].apply(lambda x: isinstance(x, list)).any():\n",
    "        df[column] = df[column].apply(lambda x: ', '.join(x) if isinstance(x, list) else x)\n",
    "\n",
    "topic_mapping = df[['Topic', 'Topic Name', 'Topic Representation']].drop_duplicates()\n",
    "\n",
    "# Step 7: Merge this mapping with topic_entropy\n",
    "topic_entropy = topic_entropy.merge(topic_mapping, on='Topic')\n"
   ]
  },
  {
   "cell_type": "code",
   "execution_count": 44,
   "id": "8f1f8c65-ef6a-477e-8c36-511f78835d3b",
   "metadata": {},
   "outputs": [
    {
     "data": {
      "text/html": [
       "<div>\n",
       "<style scoped>\n",
       "    .dataframe tbody tr th:only-of-type {\n",
       "        vertical-align: middle;\n",
       "    }\n",
       "\n",
       "    .dataframe tbody tr th {\n",
       "        vertical-align: top;\n",
       "    }\n",
       "\n",
       "    .dataframe thead th {\n",
       "        text-align: right;\n",
       "    }\n",
       "</style>\n",
       "<table border=\"1\" class=\"dataframe\">\n",
       "  <thead>\n",
       "    <tr style=\"text-align: right;\">\n",
       "      <th></th>\n",
       "      <th>Topic</th>\n",
       "      <th>entropy</th>\n",
       "      <th>Topic Name</th>\n",
       "      <th>Topic Representation</th>\n",
       "    </tr>\n",
       "  </thead>\n",
       "  <tbody>\n",
       "    <tr>\n",
       "      <th>0</th>\n",
       "      <td>-1</td>\n",
       "      <td>5.219230</td>\n",
       "      <td>-1_the_of_and_oil</td>\n",
       "      <td>the, of, and, oil, to, in, that, prices, for, on</td>\n",
       "    </tr>\n",
       "    <tr>\n",
       "      <th>1</th>\n",
       "      <td>0</td>\n",
       "      <td>4.305796</td>\n",
       "      <td>0_russia_russian_russias_soviet</td>\n",
       "      <td>russia, russian, russias, soviet, moscow, ukra...</td>\n",
       "    </tr>\n",
       "    <tr>\n",
       "      <th>2</th>\n",
       "      <td>1</td>\n",
       "      <td>4.551353</td>\n",
       "      <td>1_venezuela_hugo_chavez_venezuelan</td>\n",
       "      <td>venezuela, hugo, chavez, venezuelan, chvez, ve...</td>\n",
       "    </tr>\n",
       "  </tbody>\n",
       "</table>\n",
       "</div>"
      ],
      "text/plain": [
       "   Topic   entropy                          Topic Name  \\\n",
       "0     -1  5.219230                   -1_the_of_and_oil   \n",
       "1      0  4.305796     0_russia_russian_russias_soviet   \n",
       "2      1  4.551353  1_venezuela_hugo_chavez_venezuelan   \n",
       "\n",
       "                                Topic Representation  \n",
       "0   the, of, and, oil, to, in, that, prices, for, on  \n",
       "1  russia, russian, russias, soviet, moscow, ukra...  \n",
       "2  venezuela, hugo, chavez, venezuelan, chvez, ve...  "
      ]
     },
     "execution_count": 44,
     "metadata": {},
     "output_type": "execute_result"
    }
   ],
   "source": [
    "topic_entropy.head(3)"
   ]
  },
  {
   "cell_type": "code",
   "execution_count": 45,
   "id": "a44acfba-9d42-4618-ae23-dc39da05e1f8",
   "metadata": {},
   "outputs": [
    {
     "data": {
      "image/png": "[encoded data removed]",
      "text/plain": [
       "<Figure size 400x400 with 1 Axes>"
      ]
     },
     "metadata": {},
     "output_type": "display_data"
    }
   ],
   "source": [
    "# Create a histogram for the entropy values\n",
    "plt.figure(figsize=(4, 4))  # Adjust the figure size as needed\n",
    "plt.hist(topic_entropy['entropy'], bins=30, color='skyblue', edgecolor='black')  # You can adjust the number of bins\n",
    "\n",
    "plt.xlabel('Entropy')\n",
    "plt.ylabel('Count of Topics')\n",
    "plt.title('Distribution of Topic Entropy')\n",
    "\n",
    "# Show the plot\n",
    "plt.show()"
   ]
  },
  {
   "cell_type": "markdown",
   "id": "6dad07c1-571b-4c81-bfb3-63281abe49ce",
   "metadata": {},
   "source": [
    "#### 3.2. Group by year-month"
   ]
  },
  {
   "cell_type": "code",
   "execution_count": 13,
   "id": "948eb6fa-eebb-40e3-9986-3fc7f31d8528",
   "metadata": {},
   "outputs": [],
   "source": [
    "# Step 1: Count the occurrences of each topic in each year_month\n",
    "topic_month_counts = df.groupby(['Topic', 'year_month']).size().reset_index(name='month_count')\n",
    "\n",
    "# Step 2: Calculate the total counts of each topic across all year_months\n",
    "total_month_counts = topic_month_counts.groupby('Topic')['month_count'].sum()\n",
    "\n",
    "# Step 3: Merge total counts back to the topic-month counts DataFrame\n",
    "topic_month_counts = topic_month_counts.merge(total_month_counts, on='Topic', suffixes=('', '_total'))\n",
    "\n",
    "# Step 4: Calculate the probability distribution of each topic over the year_months\n",
    "topic_month_counts['month_probability'] = topic_month_counts['month_count'] / topic_month_counts['month_count_total']\n",
    "\n",
    "# Step 5: Calculate the entropy for each topic\n",
    "topic_month_entropy = topic_month_counts.groupby('Topic')['month_probability'].apply(entropy).reset_index(name='month_entropy')\n",
    "\n",
    "# Step 6: Create a mapping DataFrame from df\n",
    "for column in ['Topic', 'Topic Name', 'Topic Representation']:\n",
    "    if df[column].apply(lambda x: isinstance(x, list)).any():\n",
    "        df[column] = df[column].apply(lambda x: ', '.join(x) if isinstance(x, list) else x)\n",
    "\n",
    "topic_mapping = df[['Topic', 'Topic Name', 'Topic Representation']].drop_duplicates()\n",
    "\n",
    "# Step 7: Merge this mapping with topic_month_entropy\n",
    "topic_month_entropy = topic_month_entropy.merge(topic_mapping, on='Topic')"
   ]
  },
  {
   "cell_type": "code",
   "execution_count": 88,
   "id": "03513f23-6af1-43df-9e5a-0aa5c083c477",
   "metadata": {},
   "outputs": [
    {
     "data": {
      "text/html": [
       "<div>\n",
       "<style scoped>\n",
       "    .dataframe tbody tr th:only-of-type {\n",
       "        vertical-align: middle;\n",
       "    }\n",
       "\n",
       "    .dataframe tbody tr th {\n",
       "        vertical-align: top;\n",
       "    }\n",
       "\n",
       "    .dataframe thead th {\n",
       "        text-align: right;\n",
       "    }\n",
       "</style>\n",
       "<table border=\"1\" class=\"dataframe\">\n",
       "  <thead>\n",
       "    <tr style=\"text-align: right;\">\n",
       "      <th></th>\n",
       "      <th>Topic</th>\n",
       "      <th>month_entropy</th>\n",
       "      <th>Topic Name</th>\n",
       "      <th>Topic Representation</th>\n",
       "    </tr>\n",
       "  </thead>\n",
       "  <tbody>\n",
       "    <tr>\n",
       "      <th>0</th>\n",
       "      <td>-1</td>\n",
       "      <td>8.424507</td>\n",
       "      <td>-1_the_of_and_oil</td>\n",
       "      <td>the, of, and, oil, to, in, that, prices, for, on</td>\n",
       "    </tr>\n",
       "    <tr>\n",
       "      <th>1</th>\n",
       "      <td>0</td>\n",
       "      <td>6.439307</td>\n",
       "      <td>0_russia_russian_russias_soviet</td>\n",
       "      <td>russia, russian, russias, soviet, moscow, ukra...</td>\n",
       "    </tr>\n",
       "    <tr>\n",
       "      <th>2</th>\n",
       "      <td>1</td>\n",
       "      <td>6.542780</td>\n",
       "      <td>1_venezuela_hugo_chavez_venezuelan</td>\n",
       "      <td>venezuela, hugo, chavez, venezuelan, chvez, ve...</td>\n",
       "    </tr>\n",
       "    <tr>\n",
       "      <th>3</th>\n",
       "      <td>2</td>\n",
       "      <td>6.546620</td>\n",
       "      <td>2_billion_d1_company_deal</td>\n",
       "      <td>billion, d1, company, deal, companies, buy, it...</td>\n",
       "    </tr>\n",
       "    <tr>\n",
       "      <th>4</th>\n",
       "      <td>3</td>\n",
       "      <td>5.863161</td>\n",
       "      <td>3_barrel_crude_above_futures</td>\n",
       "      <td>barrel, crude, above, futures, rose, yesterday...</td>\n",
       "    </tr>\n",
       "    <tr>\n",
       "      <th>...</th>\n",
       "      <td>...</td>\n",
       "      <td>...</td>\n",
       "      <td>...</td>\n",
       "      <td>...</td>\n",
       "    </tr>\n",
       "    <tr>\n",
       "      <th>142</th>\n",
       "      <td>141</td>\n",
       "      <td>3.277613</td>\n",
       "      <td>141_alotaiba_mani_emirates_arab</td>\n",
       "      <td>alotaiba, mani, emirates, arab, said, minister...</td>\n",
       "    </tr>\n",
       "    <tr>\n",
       "      <th>143</th>\n",
       "      <td>142</td>\n",
       "      <td>2.299896</td>\n",
       "      <td>142_partly_friedmans_grappling_unwanted</td>\n",
       "      <td>partly, friedmans, grappling, unwanted, spread...</td>\n",
       "    </tr>\n",
       "    <tr>\n",
       "      <th>144</th>\n",
       "      <td>143</td>\n",
       "      <td>3.321928</td>\n",
       "      <td>143_iran_iranian_shah_reductions</td>\n",
       "      <td>iran, iranian, shah, reductions, increases, ri...</td>\n",
       "    </tr>\n",
       "    <tr>\n",
       "      <th>145</th>\n",
       "      <td>144</td>\n",
       "      <td>3.121928</td>\n",
       "      <td>144_planes_package_awacs_sale</td>\n",
       "      <td>planes, package, awacs, sale, carter, israel, ...</td>\n",
       "    </tr>\n",
       "    <tr>\n",
       "      <th>146</th>\n",
       "      <td>145</td>\n",
       "      <td>2.921928</td>\n",
       "      <td>145_chrysler_auto_trucks_gm</td>\n",
       "      <td>chrysler, auto, trucks, gm, motors, realty, ia...</td>\n",
       "    </tr>\n",
       "  </tbody>\n",
       "</table>\n",
       "<p>147 rows × 4 columns</p>\n",
       "</div>"
      ],
      "text/plain": [
       "     Topic  month_entropy                               Topic Name  \\\n",
       "0       -1       8.424507                        -1_the_of_and_oil   \n",
       "1        0       6.439307          0_russia_russian_russias_soviet   \n",
       "2        1       6.542780       1_venezuela_hugo_chavez_venezuelan   \n",
       "3        2       6.546620                2_billion_d1_company_deal   \n",
       "4        3       5.863161             3_barrel_crude_above_futures   \n",
       "..     ...            ...                                      ...   \n",
       "142    141       3.277613          141_alotaiba_mani_emirates_arab   \n",
       "143    142       2.299896  142_partly_friedmans_grappling_unwanted   \n",
       "144    143       3.321928         143_iran_iranian_shah_reductions   \n",
       "145    144       3.121928            144_planes_package_awacs_sale   \n",
       "146    145       2.921928              145_chrysler_auto_trucks_gm   \n",
       "\n",
       "                                  Topic Representation  \n",
       "0     the, of, and, oil, to, in, that, prices, for, on  \n",
       "1    russia, russian, russias, soviet, moscow, ukra...  \n",
       "2    venezuela, hugo, chavez, venezuelan, chvez, ve...  \n",
       "3    billion, d1, company, deal, companies, buy, it...  \n",
       "4    barrel, crude, above, futures, rose, yesterday...  \n",
       "..                                                 ...  \n",
       "142  alotaiba, mani, emirates, arab, said, minister...  \n",
       "143  partly, friedmans, grappling, unwanted, spread...  \n",
       "144  iran, iranian, shah, reductions, increases, ri...  \n",
       "145  planes, package, awacs, sale, carter, israel, ...  \n",
       "146  chrysler, auto, trucks, gm, motors, realty, ia...  \n",
       "\n",
       "[147 rows x 4 columns]"
      ]
     },
     "execution_count": 88,
     "metadata": {},
     "output_type": "execute_result"
    }
   ],
   "source": [
    "topic_month_entropy"
   ]
  },
  {
   "cell_type": "code",
   "execution_count": 46,
   "id": "d367a716-69bb-43bb-8ece-c2bb312a612f",
   "metadata": {},
   "outputs": [
    {
     "data": {
      "image/png": "[encoded data removed]",
      "text/plain": [
       "<Figure size 400x400 with 1 Axes>"
      ]
     },
     "metadata": {},
     "output_type": "display_data"
    }
   ],
   "source": [
    "# Create a histogram for the entropy values\n",
    "plt.figure(figsize=(4, 4))  # Adjust the figure size as needed\n",
    "plt.hist(topic_month_entropy['month_entropy'], bins=30, color='skyblue', edgecolor='black')  # You can adjust the number of bins\n",
    "\n",
    "plt.xlabel('Entropy')\n",
    "plt.ylabel('Count of Topics')\n",
    "plt.title('Distribution of Topic Entropy by Year-Month')\n",
    "\n",
    "# Show the plot\n",
    "plt.show()"
   ]
  },
  {
   "cell_type": "markdown",
   "id": "a65462b5-c055-4159-8733-4ce5c8a1664d",
   "metadata": {},
   "source": [
    "### 4. Compute the Cosine similarities between keywords and topics"
   ]
  },
  {
   "cell_type": "code",
   "execution_count": 117,
   "id": "3a4ac879-077c-44fd-93e8-19a926fbc3a8",
   "metadata": {},
   "outputs": [],
   "source": [
    "CosineSimilarityTools = CosineSimilarityTools(topic_model)"
   ]
  },
  {
   "cell_type": "code",
   "execution_count": 139,
   "id": "57c34324-711c-4246-9b14-ec5c4507a634",
   "metadata": {},
   "outputs": [],
   "source": [
    "df_word = CosineSimilarityTools.get_similarity_dataframe(\"love\")"
   ]
  },
  {
   "cell_type": "code",
   "execution_count": 140,
   "id": "24ea79c5-c582-41be-aed0-29df300fa328",
   "metadata": {},
   "outputs": [
    {
     "data": {
      "text/html": [
       "<div>\n",
       "<style scoped>\n",
       "    .dataframe tbody tr th:only-of-type {\n",
       "        vertical-align: middle;\n",
       "    }\n",
       "\n",
       "    .dataframe tbody tr th {\n",
       "        vertical-align: top;\n",
       "    }\n",
       "\n",
       "    .dataframe thead th {\n",
       "        text-align: right;\n",
       "    }\n",
       "</style>\n",
       "<table border=\"1\" class=\"dataframe\">\n",
       "  <thead>\n",
       "    <tr style=\"text-align: right;\">\n",
       "      <th></th>\n",
       "      <th>topic</th>\n",
       "      <th>topic_words</th>\n",
       "      <th>cosine_similarity</th>\n",
       "    </tr>\n",
       "  </thead>\n",
       "  <tbody>\n",
       "    <tr>\n",
       "      <th>0</th>\n",
       "      <td>-1</td>\n",
       "      <td>the, of, and, oil, to, in, that, prices, for, on</td>\n",
       "      <td>0.481344</td>\n",
       "    </tr>\n",
       "    <tr>\n",
       "      <th>1</th>\n",
       "      <td>0</td>\n",
       "      <td>russia, russian, russias, soviet, moscow, ukra...</td>\n",
       "      <td>0.324123</td>\n",
       "    </tr>\n",
       "    <tr>\n",
       "      <th>2</th>\n",
       "      <td>1</td>\n",
       "      <td>venezuela, hugo, chavez, venezuelan, chvez, ve...</td>\n",
       "      <td>0.273615</td>\n",
       "    </tr>\n",
       "  </tbody>\n",
       "</table>\n",
       "</div>"
      ],
      "text/plain": [
       "   topic                                        topic_words  cosine_similarity\n",
       "0     -1   the, of, and, oil, to, in, that, prices, for, on           0.481344\n",
       "1      0  russia, russian, russias, soviet, moscow, ukra...           0.324123\n",
       "2      1  venezuela, hugo, chavez, venezuelan, chvez, ve...           0.273615"
      ]
     },
     "execution_count": 140,
     "metadata": {},
     "output_type": "execute_result"
    }
   ],
   "source": [
    "df_word.head(3)"
   ]
  },
  {
   "cell_type": "code",
   "execution_count": 141,
   "id": "4c587bb0-6bf3-4fdf-a360-b305c3fc7e8c",
   "metadata": {},
   "outputs": [
    {
     "data": {
      "image/png": "[encoded data removed]",
      "text/plain": [
       "<Figure size 1000x600 with 1 Axes>"
      ]
     },
     "metadata": {},
     "output_type": "display_data"
    }
   ],
   "source": [
    "# Assuming merged_df_demand is already created and contains the necessary data\n",
    "merged_df = pd.merge(df_word, topic_month_entropy, left_on='topic', right_on='Topic')\n",
    "\n",
    "x = merged_df['month_entropy']\n",
    "y = merged_df['cosine_similarity']\n",
    "labels = merged_df['topic']\n",
    "\n",
    "plt.figure(figsize=(10, 6))\n",
    "scatter = plt.scatter(x, y)\n",
    "\n",
    "# Adding labels for each point\n",
    "for i, label in enumerate(labels):\n",
    "    plt.annotate(label, (x[i], y[i]), fontsize=8, alpha=0.7)\n",
    "\n",
    "plt.title('Entropy vs Cosine Similarity')\n",
    "plt.xlabel('Month Entropy')\n",
    "plt.ylabel('Cosine Similarity')\n",
    "plt.show()"
   ]
  },
  {
   "cell_type": "code",
   "execution_count": 143,
   "id": "78cade96-cfa3-402c-a528-7cc2a93e6891",
   "metadata": {},
   "outputs": [],
   "source": [
    "# import plotly.express as px\n",
    "\n",
    "# fig = px.scatter(merged_df_demand, x='month_entropy', y='cosine_similarity',\n",
    "#                  hover_data=['topic_words', 'month_entropy', 'cosine_similarity'],\n",
    "#                  title='Entropy vs Cosine Similarity')\n",
    "\n",
    "# # Update hover template to format the display of hover information\n",
    "# fig.update_traces(hovertemplate=\"<br>\".join([\n",
    "#     \"Topic Words: %{customdata[0]}\",\n",
    "#     \"Entropy: %{customdata[1]}\",\n",
    "#     \"Cosine Similarity: %{customdata[2]}\"\n",
    "# ]))\n",
    "\n",
    "# fig.show()\n"
   ]
  }
 ],
 "metadata": {
  "kernelspec": {
   "display_name": "Python 3 (ipykernel)",
   "language": "python",
   "name": "python3"
  },
  "language_info": {
   "codemirror_mode": {
    "name": "ipython",
    "version": 3
   },
   "file_extension": ".py",
   "mimetype": "text/x-python",
   "name": "python",
   "nbconvert_exporter": "python",
   "pygments_lexer": "ipython3",
   "version": "3.11.0"
  }
 },
 "nbformat": 4,
 "nbformat_minor": 5
}
