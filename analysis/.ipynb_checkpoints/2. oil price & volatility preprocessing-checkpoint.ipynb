{
 "cells": [
  {
   "cell_type": "code",
   "execution_count": 1,
   "id": "fa722e7a",
   "metadata": {},
   "outputs": [],
   "source": [
    "import numpy as np\n",
    "import pandas as pd\n",
    "import seaborn as sns\n",
    "import matplotlib.pyplot as plt"
   ]
  },
  {
   "cell_type": "markdown",
   "id": "c67d21f1",
   "metadata": {},
   "source": [
    "# 1. oil price & realized volatility\n",
    "We do the following:\n",
    "1. deflate the oil price by US core CPI\n",
    "1. Take logs, take differences and multiply by 100\n",
    "1. Compute the daily return (first element being 0)\n",
    "1. Compute the monthly realized volatility"
   ]
  },
  {
   "cell_type": "code",
   "execution_count": 2,
   "id": "9b67f734",
   "metadata": {},
   "outputs": [],
   "source": [
    "# load the data\n",
    "df_oil_price = pd.read_csv(\"database/oil_price.csv\")\n",
    "df_core_CPI = pd.read_csv(\"database/core_CPI.csv\")\n",
    "\n",
    "# unify the Date format\n",
    "# - Jan 02, 1986 -> 1986-01-02\n",
    "# - 01/01/1980 -> 1980-01\n",
    "df_oil_price['Date'] = pd.to_datetime(df_oil_price['Date'], format='%b %d, %Y')\n",
    "df_oil_price['Date'] = df_oil_price['Date'].dt.strftime('%Y-%m-%d')\n",
    "df_core_CPI['Date'] = pd.to_datetime(df_core_CPI['Date'], format='%d/%m/%Y')\n",
    "df_core_CPI['Date'] = df_core_CPI['Date'].dt.strftime('%Y-%m')\n",
    "\n",
    "# drop the empty rows for oil price data\n",
    "df_oil_price.dropna(inplace=True)\n",
    "\n",
    "# on 2020-04-20, the oil price was -36.98. We substitute it to 1 for the ease of computation\n",
    "df_oil_price.loc[df_oil_price['Date'] == \"2020-04-20\", 'oil price'] = 1\n"
   ]
  },
  {
   "cell_type": "code",
   "execution_count": 3,
   "id": "6a9f37c9",
   "metadata": {},
   "outputs": [
    {
     "data": {
      "text/html": [
       "<div>\n",
       "<style scoped>\n",
       "    .dataframe tbody tr th:only-of-type {\n",
       "        vertical-align: middle;\n",
       "    }\n",
       "\n",
       "    .dataframe tbody tr th {\n",
       "        vertical-align: top;\n",
       "    }\n",
       "\n",
       "    .dataframe thead th {\n",
       "        text-align: right;\n",
       "    }\n",
       "</style>\n",
       "<table border=\"1\" class=\"dataframe\">\n",
       "  <thead>\n",
       "    <tr style=\"text-align: right;\">\n",
       "      <th></th>\n",
       "      <th>Date</th>\n",
       "      <th>oil price</th>\n",
       "    </tr>\n",
       "  </thead>\n",
       "  <tbody>\n",
       "    <tr>\n",
       "      <th>0</th>\n",
       "      <td>1986-01-02</td>\n",
       "      <td>25.56</td>\n",
       "    </tr>\n",
       "    <tr>\n",
       "      <th>1</th>\n",
       "      <td>1986-01-03</td>\n",
       "      <td>26.00</td>\n",
       "    </tr>\n",
       "    <tr>\n",
       "      <th>2</th>\n",
       "      <td>1986-01-06</td>\n",
       "      <td>26.53</td>\n",
       "    </tr>\n",
       "    <tr>\n",
       "      <th>3</th>\n",
       "      <td>1986-01-07</td>\n",
       "      <td>25.85</td>\n",
       "    </tr>\n",
       "    <tr>\n",
       "      <th>4</th>\n",
       "      <td>1986-01-08</td>\n",
       "      <td>25.87</td>\n",
       "    </tr>\n",
       "  </tbody>\n",
       "</table>\n",
       "</div>"
      ],
      "text/plain": [
       "         Date  oil price\n",
       "0  1986-01-02      25.56\n",
       "1  1986-01-03      26.00\n",
       "2  1986-01-06      26.53\n",
       "3  1986-01-07      25.85\n",
       "4  1986-01-08      25.87"
      ]
     },
     "execution_count": 3,
     "metadata": {},
     "output_type": "execute_result"
    }
   ],
   "source": [
    "df_oil_price.head()"
   ]
  },
  {
   "cell_type": "code",
   "execution_count": 4,
   "id": "0c2c2e65",
   "metadata": {},
   "outputs": [
    {
     "data": {
      "text/html": [
       "<div>\n",
       "<style scoped>\n",
       "    .dataframe tbody tr th:only-of-type {\n",
       "        vertical-align: middle;\n",
       "    }\n",
       "\n",
       "    .dataframe tbody tr th {\n",
       "        vertical-align: top;\n",
       "    }\n",
       "\n",
       "    .dataframe thead th {\n",
       "        text-align: right;\n",
       "    }\n",
       "</style>\n",
       "<table border=\"1\" class=\"dataframe\">\n",
       "  <thead>\n",
       "    <tr style=\"text-align: right;\">\n",
       "      <th></th>\n",
       "      <th>Date</th>\n",
       "      <th>CPI</th>\n",
       "      <th>CPI index</th>\n",
       "    </tr>\n",
       "  </thead>\n",
       "  <tbody>\n",
       "    <tr>\n",
       "      <th>0</th>\n",
       "      <td>1980-01</td>\n",
       "      <td>NaN</td>\n",
       "      <td>NaN</td>\n",
       "    </tr>\n",
       "    <tr>\n",
       "      <th>1</th>\n",
       "      <td>1980-02</td>\n",
       "      <td>NaN</td>\n",
       "      <td>38.58</td>\n",
       "    </tr>\n",
       "    <tr>\n",
       "      <th>2</th>\n",
       "      <td>1980-03</td>\n",
       "      <td>NaN</td>\n",
       "      <td>39.13</td>\n",
       "    </tr>\n",
       "    <tr>\n",
       "      <th>3</th>\n",
       "      <td>1980-04</td>\n",
       "      <td>NaN</td>\n",
       "      <td>39.58</td>\n",
       "    </tr>\n",
       "    <tr>\n",
       "      <th>4</th>\n",
       "      <td>1980-05</td>\n",
       "      <td>NaN</td>\n",
       "      <td>39.88</td>\n",
       "    </tr>\n",
       "  </tbody>\n",
       "</table>\n",
       "</div>"
      ],
      "text/plain": [
       "      Date  CPI  CPI index\n",
       "0  1980-01  NaN        NaN\n",
       "1  1980-02  NaN      38.58\n",
       "2  1980-03  NaN      39.13\n",
       "3  1980-04  NaN      39.58\n",
       "4  1980-05  NaN      39.88"
      ]
     },
     "execution_count": 4,
     "metadata": {},
     "output_type": "execute_result"
    }
   ],
   "source": [
    "df_core_CPI.head()"
   ]
  },
  {
   "cell_type": "markdown",
   "id": "f096eaf0",
   "metadata": {},
   "source": [
    "### Note that: \n",
    "- df_oil_price ranges from **Jan 02 1986 to Oct 30 2023**\n",
    "- df_core_CPI ranges from **Jan 1980 to Aug 2023**"
   ]
  },
  {
   "cell_type": "markdown",
   "id": "92988d4d",
   "metadata": {},
   "source": [
    "## 1.1. Deflate the oil price by Core CPI."
   ]
  },
  {
   "cell_type": "code",
   "execution_count": 5,
   "id": "db10e4aa",
   "metadata": {},
   "outputs": [],
   "source": [
    "# Convert the 'Date' columns to datetime\n",
    "df_oil_price['Date'] = pd.to_datetime(df_oil_price['Date'])\n",
    "df_core_CPI['Date'] = pd.to_datetime(df_core_CPI['Date'].astype(str) + '-01')\n",
    "\n",
    "# Filter out the oil price data for 2023-09 and 2023-10\n",
    "df_oil_price = df_oil_price[df_oil_price['Date'] < '2023-09-01']\n",
    "\n",
    "# Set the CPI of 2005-01 as the baseline\n",
    "baseline_cpi = df_core_CPI[df_core_CPI['Date'] == '2005-01-01']['CPI index'].values[0]\n",
    "df_core_CPI['CPI index'] = df_core_CPI['CPI index'] / baseline_cpi * 100\n",
    "\n",
    "# Merge the CPI data with the oil price data on a month-year basis\n",
    "df_oil_price['YearMonth'] = df_oil_price['Date'].dt.to_period('M')\n",
    "df_core_CPI['YearMonth'] = df_core_CPI['Date'].dt.to_period('M')\n",
    "\n",
    "# Merge the dataframes\n",
    "df_merged = pd.merge(df_oil_price, df_core_CPI, on='YearMonth', how='left')\n",
    "\n",
    "# Calculate the deflated oil price\n",
    "df_merged['Deflated Oil Price'] = df_merged['oil price'] / df_merged['CPI index'] * 100\n",
    "\n",
    "# Select only the 'Date' and 'Deflated Oil Price' columns and rename them\n",
    "df_oil_price_deflated = df_merged[['Date_x', 'Deflated Oil Price']].rename(columns={'Date_x': 'Date', 'Deflated Oil Price': 'price'})\n"
   ]
  },
  {
   "cell_type": "code",
   "execution_count": 6,
   "id": "df455bf0",
   "metadata": {},
   "outputs": [
    {
     "data": {
      "text/html": [
       "<div>\n",
       "<style scoped>\n",
       "    .dataframe tbody tr th:only-of-type {\n",
       "        vertical-align: middle;\n",
       "    }\n",
       "\n",
       "    .dataframe tbody tr th {\n",
       "        vertical-align: top;\n",
       "    }\n",
       "\n",
       "    .dataframe thead th {\n",
       "        text-align: right;\n",
       "    }\n",
       "</style>\n",
       "<table border=\"1\" class=\"dataframe\">\n",
       "  <thead>\n",
       "    <tr style=\"text-align: right;\">\n",
       "      <th></th>\n",
       "      <th>Date</th>\n",
       "      <th>price</th>\n",
       "    </tr>\n",
       "  </thead>\n",
       "  <tbody>\n",
       "    <tr>\n",
       "      <th>0</th>\n",
       "      <td>1986-01-02</td>\n",
       "      <td>45.453764</td>\n",
       "    </tr>\n",
       "    <tr>\n",
       "      <th>1</th>\n",
       "      <td>1986-01-03</td>\n",
       "      <td>46.236223</td>\n",
       "    </tr>\n",
       "    <tr>\n",
       "      <th>2</th>\n",
       "      <td>1986-01-06</td>\n",
       "      <td>47.178731</td>\n",
       "    </tr>\n",
       "    <tr>\n",
       "      <th>3</th>\n",
       "      <td>1986-01-07</td>\n",
       "      <td>45.969476</td>\n",
       "    </tr>\n",
       "    <tr>\n",
       "      <th>4</th>\n",
       "      <td>1986-01-08</td>\n",
       "      <td>46.005042</td>\n",
       "    </tr>\n",
       "  </tbody>\n",
       "</table>\n",
       "</div>"
      ],
      "text/plain": [
       "        Date      price\n",
       "0 1986-01-02  45.453764\n",
       "1 1986-01-03  46.236223\n",
       "2 1986-01-06  47.178731\n",
       "3 1986-01-07  45.969476\n",
       "4 1986-01-08  46.005042"
      ]
     },
     "execution_count": 6,
     "metadata": {},
     "output_type": "execute_result"
    }
   ],
   "source": [
    "df_oil_price_deflated.head()"
   ]
  },
  {
   "cell_type": "markdown",
   "id": "03d0f719",
   "metadata": {},
   "source": [
    "Note that the data ranges from **1986-01-02 to 2023-08-31**"
   ]
  },
  {
   "cell_type": "markdown",
   "id": "a54e5568",
   "metadata": {},
   "source": [
    "## 1.2. Take logs, take differences and multiply by 100\n",
    "Now, I have the new dataframe named \"df_oil_price_deflated\" (I used this name instead of df_final). \n",
    "I want to take logs, take differece, and multiply by 100 and add this to the new column \"transformed\". "
   ]
  },
  {
   "cell_type": "code",
   "execution_count": 7,
   "id": "f71a3e71",
   "metadata": {},
   "outputs": [],
   "source": [
    "log_prices = np.log(df_oil_price_deflated['price'])\n",
    "log_price_diff = log_prices.diff()\n",
    "df_oil_price_deflated['transformed'] = log_price_diff * 100"
   ]
  },
  {
   "cell_type": "code",
   "execution_count": 8,
   "id": "27bceccb",
   "metadata": {},
   "outputs": [
    {
     "data": {
      "text/html": [
       "<div>\n",
       "<style scoped>\n",
       "    .dataframe tbody tr th:only-of-type {\n",
       "        vertical-align: middle;\n",
       "    }\n",
       "\n",
       "    .dataframe tbody tr th {\n",
       "        vertical-align: top;\n",
       "    }\n",
       "\n",
       "    .dataframe thead th {\n",
       "        text-align: right;\n",
       "    }\n",
       "</style>\n",
       "<table border=\"1\" class=\"dataframe\">\n",
       "  <thead>\n",
       "    <tr style=\"text-align: right;\">\n",
       "      <th></th>\n",
       "      <th>Date</th>\n",
       "      <th>price</th>\n",
       "      <th>transformed</th>\n",
       "    </tr>\n",
       "  </thead>\n",
       "  <tbody>\n",
       "    <tr>\n",
       "      <th>0</th>\n",
       "      <td>1986-01-02</td>\n",
       "      <td>45.453764</td>\n",
       "      <td>NaN</td>\n",
       "    </tr>\n",
       "    <tr>\n",
       "      <th>1</th>\n",
       "      <td>1986-01-03</td>\n",
       "      <td>46.236223</td>\n",
       "      <td>1.706791</td>\n",
       "    </tr>\n",
       "    <tr>\n",
       "      <th>2</th>\n",
       "      <td>1986-01-06</td>\n",
       "      <td>47.178731</td>\n",
       "      <td>2.017963</td>\n",
       "    </tr>\n",
       "    <tr>\n",
       "      <th>3</th>\n",
       "      <td>1986-01-07</td>\n",
       "      <td>45.969476</td>\n",
       "      <td>-2.596557</td>\n",
       "    </tr>\n",
       "    <tr>\n",
       "      <th>4</th>\n",
       "      <td>1986-01-08</td>\n",
       "      <td>46.005042</td>\n",
       "      <td>0.077340</td>\n",
       "    </tr>\n",
       "  </tbody>\n",
       "</table>\n",
       "</div>"
      ],
      "text/plain": [
       "        Date      price  transformed\n",
       "0 1986-01-02  45.453764          NaN\n",
       "1 1986-01-03  46.236223     1.706791\n",
       "2 1986-01-06  47.178731     2.017963\n",
       "3 1986-01-07  45.969476    -2.596557\n",
       "4 1986-01-08  46.005042     0.077340"
      ]
     },
     "execution_count": 8,
     "metadata": {},
     "output_type": "execute_result"
    }
   ],
   "source": [
    "df_oil_price_deflated.head()"
   ]
  },
  {
   "cell_type": "markdown",
   "id": "b485f8ad",
   "metadata": {},
   "source": [
    "## 1.3. Compute the daily return\n",
    "\n",
    "Here, we use the original price rather that the transformed one."
   ]
  },
  {
   "cell_type": "code",
   "execution_count": 9,
   "id": "46be8934",
   "metadata": {},
   "outputs": [],
   "source": [
    "df_oil_price_deflated['daily return'] = np.log(df_oil_price_deflated['price'] / df_oil_price_deflated['price'].shift(1))"
   ]
  },
  {
   "cell_type": "code",
   "execution_count": 10,
   "id": "43b41562",
   "metadata": {},
   "outputs": [
    {
     "data": {
      "text/html": [
       "<div>\n",
       "<style scoped>\n",
       "    .dataframe tbody tr th:only-of-type {\n",
       "        vertical-align: middle;\n",
       "    }\n",
       "\n",
       "    .dataframe tbody tr th {\n",
       "        vertical-align: top;\n",
       "    }\n",
       "\n",
       "    .dataframe thead th {\n",
       "        text-align: right;\n",
       "    }\n",
       "</style>\n",
       "<table border=\"1\" class=\"dataframe\">\n",
       "  <thead>\n",
       "    <tr style=\"text-align: right;\">\n",
       "      <th></th>\n",
       "      <th>Date</th>\n",
       "      <th>price</th>\n",
       "      <th>transformed</th>\n",
       "      <th>daily return</th>\n",
       "    </tr>\n",
       "  </thead>\n",
       "  <tbody>\n",
       "    <tr>\n",
       "      <th>0</th>\n",
       "      <td>1986-01-02</td>\n",
       "      <td>45.453764</td>\n",
       "      <td>NaN</td>\n",
       "      <td>NaN</td>\n",
       "    </tr>\n",
       "    <tr>\n",
       "      <th>1</th>\n",
       "      <td>1986-01-03</td>\n",
       "      <td>46.236223</td>\n",
       "      <td>1.706791</td>\n",
       "      <td>0.017068</td>\n",
       "    </tr>\n",
       "    <tr>\n",
       "      <th>2</th>\n",
       "      <td>1986-01-06</td>\n",
       "      <td>47.178731</td>\n",
       "      <td>2.017963</td>\n",
       "      <td>0.020180</td>\n",
       "    </tr>\n",
       "    <tr>\n",
       "      <th>3</th>\n",
       "      <td>1986-01-07</td>\n",
       "      <td>45.969476</td>\n",
       "      <td>-2.596557</td>\n",
       "      <td>-0.025966</td>\n",
       "    </tr>\n",
       "    <tr>\n",
       "      <th>4</th>\n",
       "      <td>1986-01-08</td>\n",
       "      <td>46.005042</td>\n",
       "      <td>0.077340</td>\n",
       "      <td>0.000773</td>\n",
       "    </tr>\n",
       "  </tbody>\n",
       "</table>\n",
       "</div>"
      ],
      "text/plain": [
       "        Date      price  transformed  daily return\n",
       "0 1986-01-02  45.453764          NaN           NaN\n",
       "1 1986-01-03  46.236223     1.706791      0.017068\n",
       "2 1986-01-06  47.178731     2.017963      0.020180\n",
       "3 1986-01-07  45.969476    -2.596557     -0.025966\n",
       "4 1986-01-08  46.005042     0.077340      0.000773"
      ]
     },
     "execution_count": 10,
     "metadata": {},
     "output_type": "execute_result"
    }
   ],
   "source": [
    "df_oil_price_deflated.head()"
   ]
  },
  {
   "cell_type": "markdown",
   "id": "4b6047ad",
   "metadata": {},
   "source": [
    "## 1.4. Compute the monthly volatility"
   ]
  },
  {
   "cell_type": "code",
   "execution_count": 13,
   "id": "fb6ab210",
   "metadata": {},
   "outputs": [],
   "source": [
    "# Convert 'Date' to datetime and extract year-month\n",
    "df_oil_price_deflated['Date'] = pd.to_datetime(df_oil_price_deflated['Date'])\n",
    "df_oil_price_deflated['YearMonth'] = df_oil_price_deflated['Date'].dt.to_period('M')\n",
    "\n",
    "# Group by 'YearMonth' and calculate the average daily return\n",
    "monthly_avg_return = df_oil_price_deflated.groupby('YearMonth')['daily return'].mean()\n",
    "\n",
    "# Calculate the realized volatility for each month\n",
    "def calculate_realized_volatility(group):\n",
    "    n = len(group)\n",
    "    if n == 0:\n",
    "        return np.nan\n",
    "    sum_of_squares = np.sum((group - monthly_avg_return[group.name]) ** 2)\n",
    "    return 100 * np.sqrt((260 / n) * sum_of_squares)\n",
    "\n",
    "# Group by 'YearMonth' again and apply the realized volatility function\n",
    "df_realized_volatility = df_oil_price_deflated.groupby('YearMonth')['daily return'].apply(calculate_realized_volatility).reset_index()\n",
    "\n",
    "# Rename columns\n",
    "df_realized_volatility.columns = ['month', 'value']\n",
    "\n",
    "# Convert 'month' to string format\n",
    "df_realized_volatility['month'] = df_realized_volatility['month'].astype(str)\n"
   ]
  },
  {
   "cell_type": "code",
   "execution_count": 14,
   "id": "6659f3ab",
   "metadata": {},
   "outputs": [
    {
     "data": {
      "text/html": [
       "<div>\n",
       "<style scoped>\n",
       "    .dataframe tbody tr th:only-of-type {\n",
       "        vertical-align: middle;\n",
       "    }\n",
       "\n",
       "    .dataframe tbody tr th {\n",
       "        vertical-align: top;\n",
       "    }\n",
       "\n",
       "    .dataframe thead th {\n",
       "        text-align: right;\n",
       "    }\n",
       "</style>\n",
       "<table border=\"1\" class=\"dataframe\">\n",
       "  <thead>\n",
       "    <tr style=\"text-align: right;\">\n",
       "      <th></th>\n",
       "      <th>month</th>\n",
       "      <th>value</th>\n",
       "    </tr>\n",
       "  </thead>\n",
       "  <tbody>\n",
       "    <tr>\n",
       "      <th>0</th>\n",
       "      <td>1986-01</td>\n",
       "      <td>53.757693</td>\n",
       "    </tr>\n",
       "    <tr>\n",
       "      <th>1</th>\n",
       "      <td>1986-02</td>\n",
       "      <td>83.782285</td>\n",
       "    </tr>\n",
       "    <tr>\n",
       "      <th>2</th>\n",
       "      <td>1986-03</td>\n",
       "      <td>108.745379</td>\n",
       "    </tr>\n",
       "    <tr>\n",
       "      <th>3</th>\n",
       "      <td>1986-04</td>\n",
       "      <td>89.877165</td>\n",
       "    </tr>\n",
       "    <tr>\n",
       "      <th>4</th>\n",
       "      <td>1986-05</td>\n",
       "      <td>67.618221</td>\n",
       "    </tr>\n",
       "  </tbody>\n",
       "</table>\n",
       "</div>"
      ],
      "text/plain": [
       "     month       value\n",
       "0  1986-01   53.757693\n",
       "1  1986-02   83.782285\n",
       "2  1986-03  108.745379\n",
       "3  1986-04   89.877165\n",
       "4  1986-05   67.618221"
      ]
     },
     "execution_count": 14,
     "metadata": {},
     "output_type": "execute_result"
    }
   ],
   "source": [
    "df_realized_volatility.head()"
   ]
  },
  {
   "cell_type": "markdown",
   "id": "ed38a97a",
   "metadata": {},
   "source": [
    "### Now we export the files"
   ]
  },
  {
   "cell_type": "code",
   "execution_count": 15,
   "id": "30edd100",
   "metadata": {},
   "outputs": [],
   "source": [
    "df_realized_volatility.to_csv(\"database/realized_volatility.csv\")\n",
    "df_oil_price_deflated.to_csv(\"database/crude_oil_price_deflated.csv\")"
   ]
  }
 ],
 "metadata": {
  "kernelspec": {
   "display_name": "Python 3 (ipykernel)",
   "language": "python",
   "name": "python3"
  },
  "language_info": {
   "codemirror_mode": {
    "name": "ipython",
    "version": 3
   },
   "file_extension": ".py",
   "mimetype": "text/x-python",
   "name": "python",
   "nbconvert_exporter": "python",
   "pygments_lexer": "ipython3",
   "version": "3.11.6"
  }
 },
 "nbformat": 4,
 "nbformat_minor": 5
}
