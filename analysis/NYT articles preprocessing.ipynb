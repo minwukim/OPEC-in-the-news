{
 "cells": [
  {
   "cell_type": "code",
   "execution_count": 1,
   "id": "eaaaa7fd",
   "metadata": {},
   "outputs": [],
   "source": [
    "import numpy as np\n",
    "import pandas as pd"
   ]
  },
  {
   "cell_type": "code",
   "execution_count": 4,
   "id": "9c5ab93e",
   "metadata": {},
   "outputs": [],
   "source": [
    "df1 = pd.read_csv('nyt_scrape1.csv')\n",
    "df2 = pd.read_csv('nyt_scrape2.csv')\n",
    "df3 = pd.read_csv('nyt_scrape3.csv')\n",
    "df4 = pd.read_csv('nyt_scrape4.csv')\n",
    "df5 = pd.read_csv('nyt_scrape5.csv')"
   ]
  },
  {
   "cell_type": "code",
   "execution_count": 6,
   "id": "aab4e4b8",
   "metadata": {},
   "outputs": [],
   "source": [
    "# Concatenating the dataframes vertically\n",
    "df = pd.concat([df1, df2, df3, df4, df5])\n",
    "\n",
    "# Removing duplicate rows\n",
    "df = df.drop_duplicates()"
   ]
  },
  {
   "cell_type": "code",
   "execution_count": 8,
   "id": "324cdb6d",
   "metadata": {},
   "outputs": [],
   "source": [
    "df.to_csv(\"nyt_articles.csv\")"
   ]
  },
  {
   "cell_type": "code",
   "execution_count": null,
   "id": "953da14b",
   "metadata": {},
   "outputs": [],
   "source": []
  }
 ],
 "metadata": {
  "kernelspec": {
   "display_name": "Python 3 (ipykernel)",
   "language": "python",
   "name": "python3"
  },
  "language_info": {
   "codemirror_mode": {
    "name": "ipython",
    "version": 3
   },
   "file_extension": ".py",
   "mimetype": "text/x-python",
   "name": "python",
   "nbconvert_exporter": "python",
   "pygments_lexer": "ipython3",
   "version": "3.11.5"
  }
 },
 "nbformat": 4,
 "nbformat_minor": 5
}
